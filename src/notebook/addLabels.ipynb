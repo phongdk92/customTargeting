{
 "cells": [
  {
   "cell_type": "code",
   "execution_count": 34,
   "metadata": {},
   "outputs": [],
   "source": [
    "import pandas as pd"
   ]
  },
  {
   "cell_type": "code",
   "execution_count": null,
   "metadata": {},
   "outputs": [],
   "source": [
    "# filename = '/home/phongdk/data_custom_targeting/P30_40/prediction/2019-03-17.csv.gz'\n",
    "# df = pd.read_csv(filename, compression='gzip', header=None, names=['browser_id'], dtype={'browser_id':str})\n",
    "# df['category_id'] = 15905\n",
    "# output = '/home/phongdk/data_custom_targeting/30-40_20190604/prediction/uid_cate_2019-03-17.csv.gz'\n",
    "# df.to_csv(output, sep='\\t', compression='gzip', index=False)"
   ]
  },
  {
   "cell_type": "code",
   "execution_count": 47,
   "metadata": {},
   "outputs": [
    {
     "data": {
      "text/plain": [
       "(44460, 2)"
      ]
     },
     "execution_count": 47,
     "metadata": {},
     "output_type": "execute_result"
    }
   ],
   "source": [
    "filename = '/home/phongdk/data_custom_targeting/22-29_20190630_50/prediction/uid_cate_2019-03-11.csv.gz'\n",
    "df = pd.read_csv(filename, compression='gzip', sep='\\t', dtype={'browser_id':str})#, header=None)\n",
    "df.shape"
   ]
  },
  {
   "cell_type": "code",
   "execution_count": 48,
   "metadata": {},
   "outputs": [
    {
     "data": {
      "text/html": [
       "<div>\n",
       "<style scoped>\n",
       "    .dataframe tbody tr th:only-of-type {\n",
       "        vertical-align: middle;\n",
       "    }\n",
       "\n",
       "    .dataframe tbody tr th {\n",
       "        vertical-align: top;\n",
       "    }\n",
       "\n",
       "    .dataframe thead th {\n",
       "        text-align: right;\n",
       "    }\n",
       "</style>\n",
       "<table border=\"1\" class=\"dataframe\">\n",
       "  <thead>\n",
       "    <tr style=\"text-align: right;\">\n",
       "      <th></th>\n",
       "      <th>browser_id</th>\n",
       "      <th>category_id</th>\n",
       "    </tr>\n",
       "  </thead>\n",
       "  <tbody>\n",
       "    <tr>\n",
       "      <th>0</th>\n",
       "      <td>32A8780A-3DAA-4710-835D-11728CCE1B8C.n_aylchJD...</td>\n",
       "      <td>15906</td>\n",
       "    </tr>\n",
       "    <tr>\n",
       "      <th>1</th>\n",
       "      <td>F44C4B97-CBE2-46C0-B141-36AEA9637649.4V_dwpAXH...</td>\n",
       "      <td>15906</td>\n",
       "    </tr>\n",
       "    <tr>\n",
       "      <th>2</th>\n",
       "      <td>db6a807d-ebdd-4865-a8c3-b82bcb1ba429.YicfiCBSZ...</td>\n",
       "      <td>15906</td>\n",
       "    </tr>\n",
       "    <tr>\n",
       "      <th>3</th>\n",
       "      <td>02455EA9-7276-45CD-82C5-00AEBA564F03.SZvt6OMdn...</td>\n",
       "      <td>15906</td>\n",
       "    </tr>\n",
       "    <tr>\n",
       "      <th>4</th>\n",
       "      <td>4B3EADF6-8782-4F81-908D-8A41428B63D2.jLpAxKhbm...</td>\n",
       "      <td>15906</td>\n",
       "    </tr>\n",
       "  </tbody>\n",
       "</table>\n",
       "</div>"
      ],
      "text/plain": [
       "                                          browser_id  category_id\n",
       "0  32A8780A-3DAA-4710-835D-11728CCE1B8C.n_aylchJD...        15906\n",
       "1  F44C4B97-CBE2-46C0-B141-36AEA9637649.4V_dwpAXH...        15906\n",
       "2  db6a807d-ebdd-4865-a8c3-b82bcb1ba429.YicfiCBSZ...        15906\n",
       "3  02455EA9-7276-45CD-82C5-00AEBA564F03.SZvt6OMdn...        15906\n",
       "4  4B3EADF6-8782-4F81-908D-8A41428B63D2.jLpAxKhbm...        15906"
      ]
     },
     "execution_count": 48,
     "metadata": {},
     "output_type": "execute_result"
    }
   ],
   "source": [
    "df.head()"
   ]
  },
  {
   "cell_type": "code",
   "execution_count": 49,
   "metadata": {},
   "outputs": [],
   "source": [
    "df.to_csv(filename, sep=' ', compression='gzip', header=None, index=False)"
   ]
  },
  {
   "cell_type": "code",
   "execution_count": null,
   "metadata": {},
   "outputs": [],
   "source": []
  }
 ],
 "metadata": {
  "kernelspec": {
   "display_name": "Python 3",
   "language": "python",
   "name": "python3"
  },
  "language_info": {
   "codemirror_mode": {
    "name": "ipython",
    "version": 3
   },
   "file_extension": ".py",
   "mimetype": "text/x-python",
   "name": "python",
   "nbconvert_exporter": "python",
   "pygments_lexer": "ipython3",
   "version": "3.6.8"
  }
 },
 "nbformat": 4,
 "nbformat_minor": 2
}
